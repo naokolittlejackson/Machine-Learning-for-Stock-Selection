{
  "nbformat": 4,
  "nbformat_minor": 0,
  "metadata": {
    "colab": {
      "provenance": [],
      "authorship_tag": "ABX9TyNcaIvhoPjs03sS/Rwhq/qM",
      "include_colab_link": true
    },
    "kernelspec": {
      "name": "python3",
      "display_name": "Python 3"
    },
    "language_info": {
      "name": "python"
    }
  },
  "cells": [
    {
      "cell_type": "markdown",
      "metadata": {
        "id": "view-in-github",
        "colab_type": "text"
      },
      "source": [
        "<a href=\"https://colab.research.google.com/github/naokolittlejackson/Machine-Learning-for-Stock-Selection/blob/main/Machine_Learning_for_Stock_Selection.ipynb\" target=\"_parent\"><img src=\"https://colab.research.google.com/assets/colab-badge.svg\" alt=\"Open In Colab\"/></a>"
      ]
    },
    {
      "cell_type": "markdown",
      "source": [
        "# **1. Download the data from Yahoo! Finance's API**"
      ],
      "metadata": {
        "id": "k3P_vIHypktq"
      }
    },
    {
      "cell_type": "markdown",
      "source": [
        "**import** = This keyword is used in Python to include or load an external module or library into the current script or program"
      ],
      "metadata": {
        "id": "pR8wlZ4spuYx"
      }
    },
    {
      "cell_type": "markdown",
      "source": [
        "* What is a module?\n",
        "Modules or libraries in Python are collections of pre-written code that you can reuse in your program."
      ],
      "metadata": {
        "id": "NGKgcR3uqTaJ"
      }
    },
    {
      "cell_type": "markdown",
      "source": [
        "**yfinance** = Is the module being imported"
      ],
      "metadata": {
        "id": "A2vbF7JJqcjn"
      }
    },
    {
      "cell_type": "markdown",
      "source": [
        "* YFinance (short for Yahoo Finance) is a Python library that provides tools for downloading financial data, such as stock prices, historical data, dividends, and more, from Yahoo Finance."
      ],
      "metadata": {
        "id": "xEFYTPYUqojQ"
      }
    },
    {
      "cell_type": "markdown",
      "source": [
        "**as** = This keyword is used to provide an alias (a shorthand name) for the module being imported. The alias is optional but can make the code cleaner or easier to write."
      ],
      "metadata": {
        "id": "DfVZuxT5qs7_"
      }
    },
    {
      "cell_type": "markdown",
      "source": [
        "**yf** = This is the alias for the yfinance module. By using as yf, you can refer to yfinance simply as yf throughout your code, which is shorter and more convenient."
      ],
      "metadata": {
        "id": "UjnMpbDkq1AF"
      }
    },
    {
      "cell_type": "code",
      "execution_count": 1,
      "metadata": {
        "id": "wFZSCOLWms__"
      },
      "outputs": [],
      "source": [
        "import yfinance as yf"
      ]
    },
    {
      "cell_type": "markdown",
      "source": [],
      "metadata": {
        "id": "K8Nm6W20rErf"
      }
    },
    {
      "cell_type": "code",
      "source": [
        "sp500 = yf.Ticker(\"GSPC\")"
      ],
      "metadata": {
        "id": "XeAy6Jxto8Af"
      },
      "execution_count": 2,
      "outputs": []
    }
  ]
}